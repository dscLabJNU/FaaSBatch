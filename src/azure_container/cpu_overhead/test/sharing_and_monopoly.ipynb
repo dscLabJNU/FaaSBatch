{
 "cells": [
  {
   "cell_type": "code",
   "execution_count": 1,
   "metadata": {},
   "outputs": [],
   "source": [
    "import glob\n",
    "import pandas as pd\n",
    "import matplotlib.pyplot as plt\n",
    "import seaborn as sns\n",
    "fontsize = 16\n",
    "\n",
    "\n",
    "sns.set_context(\"paper\", rc={\n",
    "    \"font.size\": fontsize,\n",
    "    \"axes.titlesize\": fontsize,\n",
    "    \"axes.labelsize\": fontsize,\n",
    "    \"xtick.labelsize\": fontsize,\n",
    "    'ytick.labelsize': fontsize,\n",
    "    'grid.linewidth': 1.5,\n",
    "})\n",
    "sns.set_style(\"ticks\", {\"xtick.major.size\": 14, \"ytick.major.size\": 14})\n",
    "\n",
    "plt.rc('font', family='Times New Roman', weight='bold', size=fontsize)\n",
    "plt.rcParams.update(\n",
    "    {'font.size': fontsize, \"axes.grid\": True, 'grid.linestyle': '-.'})\n",
    "\n",
    "PATH = '../logs'"
   ]
  },
  {
   "cell_type": "code",
   "execution_count": 2,
   "metadata": {},
   "outputs": [
    {
     "name": "stderr",
     "output_type": "stream",
     "text": [
      "findfont: Font family ['Times New Roman'] not found. Falling back to DejaVu Sans.\n",
      "findfont: Font family ['Times New Roman'] not found. Falling back to DejaVu Sans.\n",
      "findfont: Font family ['Times New Roman'] not found. Falling back to DejaVu Sans.\n"
     ]
    },
    {
     "data": {
      "image/png": "[encoded data removed]",
      "text/plain": [
       "<Figure size 360x180 with 1 Axes>"
      ]
     },
     "metadata": {
      "needs_background": "light"
     },
     "output_type": "display_data"
    }
   ],
   "source": [
    "import re\n",
    "import numpy as np\n",
    "import string\n",
    "\n",
    "\n",
    "def bar_plot(y, y_label):\n",
    "    fig, ax1 = plt.subplots(figsize=(5, 2.5))\n",
    "    sns.barplot(x=\"concurrency\", y=y, hue=\"strategy\",\n",
    "                data=data, palette=\"Blues\", order=sorted(data['concurrency'].unique()), estimator=lambda x: np.quantile(x, 0.98))\n",
    "    sns.move_legend(ax1, \"lower center\", bbox_to_anchor=(.5, 1),\n",
    "                    ncol=4, title=None, frameon=False, fontsize=fontsize-4)\n",
    "    ax1.set_ylabel(y_label)\n",
    "    ax1.set_xlabel(\"concurrency\")\n",
    "    fig.show()\n",
    "\n",
    "\n",
    "csvs = glob.glob(f\"{PATH}/*_reqs.csv\")\n",
    "\n",
    "data = pd.DataFrame()\n",
    "for csv in csvs:\n",
    "    concurrency = re.findall(r\"\\d+\\.?\\d*\", csv)[0]\n",
    "    strategy = re.findall(r\"(?<=\\/)[a-z]*(?=_)\", csv)[0]\n",
    "    df = pd.read_csv(csv)\n",
    "    df['concurrency'] = int(concurrency)\n",
    "    df['strategy'] = strategy.capitalize()\n",
    "    data = pd.concat([df, data])\n",
    "\n",
    "data['exec_time(s)'] = data['exec_time(ms)'] / 1000  # Converts ms to s\n",
    "bar_plot(y=\"exec_time(s)\", y_label=\"Exec time (s)\")"
   ]
  }
 ],
 "metadata": {
  "kernelspec": {
   "display_name": "Python 3.8.13 ('plot-env')",
   "language": "python",
   "name": "python3"
  },
  "language_info": {
   "codemirror_mode": {
    "name": "ipython",
    "version": 3
   },
   "file_extension": ".py",
   "mimetype": "text/x-python",
   "name": "python",
   "nbconvert_exporter": "python",
   "pygments_lexer": "ipython3",
   "version": "3.8.13"
  },
  "orig_nbformat": 4,
  "vscode": {
   "interpreter": {
    "hash": "b7127f5b8ee8a3b5f51ceeedd08699d4ab7f3447fac58cf3b39ff17dda2c753f"
   }
  }
 },
 "nbformat": 4,
 "nbformat_minor": 2
}
