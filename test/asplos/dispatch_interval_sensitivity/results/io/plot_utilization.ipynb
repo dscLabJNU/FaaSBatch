{
 "cells": [
  {
   "cell_type": "code",
   "execution_count": 1,
   "metadata": {},
   "outputs": [],
   "source": [
    "import glob\n",
    "import pandas as pd\n",
    "import matplotlib.pyplot as plt\n",
    "import seaborn as sns\n",
    "import utils\n",
    "fontsize = 16\n",
    "\n",
    "\n",
    "sns.set_context(\"paper\", rc={\n",
    "    \"font.size\": fontsize,\n",
    "    \"axes.titlesize\": fontsize,\n",
    "    \"axes.labelsize\": fontsize,\n",
    "    \"xtick.labelsize\": fontsize,\n",
    "    'ytick.labelsize': fontsize,\n",
    "    'grid.linewidth': 1.5,\n",
    "})\n",
    "sns.set_style(\"ticks\", {\"xtick.major.size\": 14, \"ytick.major.size\": 14})\n",
    "\n",
    "plt.rc('font', family='Times New Roman', weight='bold', size=fontsize)\n",
    "# plt.rc('lines', lw=3.5)\n",
    "plt.rcParams.update(\n",
    "    {'font.size': fontsize, \"axes.grid\": True, 'grid.linestyle': '-.'})\n",
    "\n",
    "\n",
    "path_mac = \".\"\n",
    "path_linux = \".\"\n",
    "PATH = utils.get_data_path(path_mac=path_mac, path_linux=path_linux)\n"
   ]
  },
  {
   "cell_type": "markdown",
   "metadata": {},
   "source": [
    "### 每一种策略的 执行时间 和 内存用量 受 Dispatch_intervel 的影响"
   ]
  },
  {
   "cell_type": "code",
   "execution_count": 2,
   "metadata": {},
   "outputs": [],
   "source": [
    "def plot_bar_figure(x, y, title, y_limit, palette, ax, data,\n",
    "                    x_label='Request Concurrency', y_label=\"Invocation latency (s)\"):\n",
    "\n",
    "    sns.barplot(x=x, y=y,\n",
    "                data=data,\n",
    "                # ci=None\n",
    "                palette=palette,\n",
    "                ax=ax\n",
    "                )\n",
    "    ax.set_xlabel(x_label, weight=\"bold\")\n",
    "    ax.set_ylabel(y_label, weight=\"bold\")\n",
    "    if y_limit:\n",
    "        ax.set_ylim([0, y_limit])\n",
    "    # plt.title(title)\n",
    "    return ax\n",
    "\n",
    "\n",
    "\n",
    "\n"
   ]
  },
  {
   "cell_type": "code",
   "execution_count": 3,
   "metadata": {},
   "outputs": [],
   "source": [
    "\n",
    "all_csvs = list(\n",
    "    map(lambda x: f'{x.split(\".csv\")[0]}', glob.glob(\"utilization*.csv\")))\n",
    "strategies = ['BaseBatching', \"Kraken\", \"SFS\",  \"n_Batching\"]\n",
    "legends = ['BaseBatching', \"Kraken\", \"SFS\",  \"FaaSBatch\"]\n",
    "strategy_csvs = {\n",
    "    strategy: list(filter(lambda x: strategy in x, all_csvs)) for strategy in strategies\n",
    "}\n",
    "\n",
    "data = pd.DataFrame()\n",
    "for strategy, csvs in strategy_csvs.items():\n",
    "    for csv in csvs:\n",
    "        df = pd.read_csv(f\"{csv}.csv\")\n",
    "        dispatch_interval = csv.split(\"_\")[-1]\n",
    "        df['dispatch_interval'] = dispatch_interval\n",
    "        if strategy == 'n_Batching':\n",
    "            df['strategy'] = \"FaaSBatch\"\n",
    "        else:\n",
    "            df['strategy'] = strategy\n",
    "        data = pd.concat([df, data])\n",
    "\n",
    "\n",
    "data[\"Mem_Util(0.01*MB)\"] = data[\"Mem_Util(0.01*MB)\"] - \\\n",
    "    data[\"Mem_Util(0.01*MB)\"].min()\n",
    "data[\"Mem_Util(0.01*MB)\"] = 100 * \\\n",
    "    data[\"Mem_Util(0.01*MB)\"] / 1024\n",
    "\n",
    "data[\"CPU_Util(%)\"] = data[\"CPU_Util(%)\"] - \\\n",
    "    data[\"CPU_Util(%)\"].min()"
   ]
  },
  {
   "cell_type": "code",
   "execution_count": 4,
   "metadata": {},
   "outputs": [
    {
     "data": {
      "text/html": [
       "<div>\n",
       "<style scoped>\n",
       "    .dataframe tbody tr th:only-of-type {\n",
       "        vertical-align: middle;\n",
       "    }\n",
       "\n",
       "    .dataframe tbody tr th {\n",
       "        vertical-align: top;\n",
       "    }\n",
       "\n",
       "    .dataframe thead th {\n",
       "        text-align: right;\n",
       "    }\n",
       "</style>\n",
       "<table border=\"1\" class=\"dataframe\">\n",
       "  <thead>\n",
       "    <tr style=\"text-align: right;\">\n",
       "      <th></th>\n",
       "      <th>Time(s)</th>\n",
       "      <th>Net_Receive(MB/s)</th>\n",
       "      <th>CPU_Util(%)</th>\n",
       "      <th>Disk_WR(0.1*MB/s)</th>\n",
       "      <th>Mem_Util(0.01*MB)</th>\n",
       "      <th>dispatch_interval</th>\n",
       "      <th>strategy</th>\n",
       "    </tr>\n",
       "  </thead>\n",
       "  <tbody>\n",
       "    <tr>\n",
       "      <th>0</th>\n",
       "      <td>1</td>\n",
       "      <td>0.000000</td>\n",
       "      <td>0.172</td>\n",
       "      <td>0</td>\n",
       "      <td>0.593750</td>\n",
       "      <td>0.3</td>\n",
       "      <td>FaaSBatch</td>\n",
       "    </tr>\n",
       "    <tr>\n",
       "      <th>1</th>\n",
       "      <td>2</td>\n",
       "      <td>0.013966</td>\n",
       "      <td>0.359</td>\n",
       "      <td>0</td>\n",
       "      <td>0.596680</td>\n",
       "      <td>0.3</td>\n",
       "      <td>FaaSBatch</td>\n",
       "    </tr>\n",
       "    <tr>\n",
       "      <th>2</th>\n",
       "      <td>3</td>\n",
       "      <td>0.000000</td>\n",
       "      <td>16.670</td>\n",
       "      <td>0</td>\n",
       "      <td>0.696289</td>\n",
       "      <td>0.3</td>\n",
       "      <td>FaaSBatch</td>\n",
       "    </tr>\n",
       "    <tr>\n",
       "      <th>3</th>\n",
       "      <td>4</td>\n",
       "      <td>0.028931</td>\n",
       "      <td>19.175</td>\n",
       "      <td>0</td>\n",
       "      <td>0.885742</td>\n",
       "      <td>0.3</td>\n",
       "      <td>FaaSBatch</td>\n",
       "    </tr>\n",
       "    <tr>\n",
       "      <th>4</th>\n",
       "      <td>5</td>\n",
       "      <td>0.036648</td>\n",
       "      <td>20.035</td>\n",
       "      <td>0</td>\n",
       "      <td>1.058594</td>\n",
       "      <td>0.3</td>\n",
       "      <td>FaaSBatch</td>\n",
       "    </tr>\n",
       "    <tr>\n",
       "      <th>...</th>\n",
       "      <td>...</td>\n",
       "      <td>...</td>\n",
       "      <td>...</td>\n",
       "      <td>...</td>\n",
       "      <td>...</td>\n",
       "      <td>...</td>\n",
       "      <td>...</td>\n",
       "    </tr>\n",
       "    <tr>\n",
       "      <th>29</th>\n",
       "      <td>30</td>\n",
       "      <td>0.007458</td>\n",
       "      <td>55.165</td>\n",
       "      <td>0</td>\n",
       "      <td>5.422852</td>\n",
       "      <td>0.01</td>\n",
       "      <td>BaseBatching</td>\n",
       "    </tr>\n",
       "    <tr>\n",
       "      <th>30</th>\n",
       "      <td>31</td>\n",
       "      <td>0.002481</td>\n",
       "      <td>51.767</td>\n",
       "      <td>0</td>\n",
       "      <td>5.584961</td>\n",
       "      <td>0.01</td>\n",
       "      <td>BaseBatching</td>\n",
       "    </tr>\n",
       "    <tr>\n",
       "      <th>31</th>\n",
       "      <td>32</td>\n",
       "      <td>0.017332</td>\n",
       "      <td>50.582</td>\n",
       "      <td>0</td>\n",
       "      <td>5.797852</td>\n",
       "      <td>0.01</td>\n",
       "      <td>BaseBatching</td>\n",
       "    </tr>\n",
       "    <tr>\n",
       "      <th>32</th>\n",
       "      <td>33</td>\n",
       "      <td>0.009466</td>\n",
       "      <td>3.678</td>\n",
       "      <td>0</td>\n",
       "      <td>5.567383</td>\n",
       "      <td>0.01</td>\n",
       "      <td>BaseBatching</td>\n",
       "    </tr>\n",
       "    <tr>\n",
       "      <th>33</th>\n",
       "      <td>34</td>\n",
       "      <td>0.004161</td>\n",
       "      <td>3.829</td>\n",
       "      <td>0</td>\n",
       "      <td>5.567383</td>\n",
       "      <td>0.01</td>\n",
       "      <td>BaseBatching</td>\n",
       "    </tr>\n",
       "  </tbody>\n",
       "</table>\n",
       "<p>1024 rows × 7 columns</p>\n",
       "</div>"
      ],
      "text/plain": [
       "    Time(s)  Net_Receive(MB/s)  CPU_Util(%)  Disk_WR(0.1*MB/s)  \\\n",
       "0         1           0.000000        0.172                  0   \n",
       "1         2           0.013966        0.359                  0   \n",
       "2         3           0.000000       16.670                  0   \n",
       "3         4           0.028931       19.175                  0   \n",
       "4         5           0.036648       20.035                  0   \n",
       "..      ...                ...          ...                ...   \n",
       "29       30           0.007458       55.165                  0   \n",
       "30       31           0.002481       51.767                  0   \n",
       "31       32           0.017332       50.582                  0   \n",
       "32       33           0.009466        3.678                  0   \n",
       "33       34           0.004161        3.829                  0   \n",
       "\n",
       "    Mem_Util(0.01*MB) dispatch_interval      strategy  \n",
       "0            0.593750               0.3     FaaSBatch  \n",
       "1            0.596680               0.3     FaaSBatch  \n",
       "2            0.696289               0.3     FaaSBatch  \n",
       "3            0.885742               0.3     FaaSBatch  \n",
       "4            1.058594               0.3     FaaSBatch  \n",
       "..                ...               ...           ...  \n",
       "29           5.422852              0.01  BaseBatching  \n",
       "30           5.584961              0.01  BaseBatching  \n",
       "31           5.797852              0.01  BaseBatching  \n",
       "32           5.567383              0.01  BaseBatching  \n",
       "33           5.567383              0.01  BaseBatching  \n",
       "\n",
       "[1024 rows x 7 columns]"
      ]
     },
     "execution_count": 4,
     "metadata": {},
     "output_type": "execute_result"
    }
   ],
   "source": [
    "data\n"
   ]
  },
  {
   "cell_type": "code",
   "execution_count": 5,
   "metadata": {},
   "outputs": [
    {
     "name": "stderr",
     "output_type": "stream",
     "text": [
      "findfont: Font family ['Times New Roman'] not found. Falling back to DejaVu Sans.\n",
      "findfont: Font family ['Times New Roman'] not found. Falling back to DejaVu Sans.\n",
      "findfont: Font family ['Times New Roman'] not found. Falling back to DejaVu Sans.\n"
     ]
    },
    {
     "data": {
      "image/png": "[encoded data removed]",
      "text/plain": [
       "<Figure size 432x180 with 1 Axes>"
      ]
     },
     "metadata": {
      "needs_background": "light"
     },
     "output_type": "display_data"
    }
   ],
   "source": [
    "\n",
    "fig, ax1 = plt.subplots(figsize=(6, 2.5))\n",
    "sns.barplot(x=\"dispatch_interval\", y=\"Mem_Util(0.01*MB)\", hue=\"strategy\", hue_order=legends,\n",
    "            data=data, palette=\"Blues\", order=sorted(data['dispatch_interval'].unique()))\n",
    "data['strategy'].unique()\n",
    "sns.move_legend(ax1, \"lower center\", bbox_to_anchor=(.5, 1),\n",
    "                ncol=4, title=None, frameon=False, fontsize=fontsize-6)\n",
    "ax1.set_ylabel(\"Memory usage (GB)\")\n",
    "ax1.set_xlabel(\"Dispatch interval (s)\")\n",
    "fig.show()"
   ]
  },
  {
   "cell_type": "code",
   "execution_count": 6,
   "metadata": {},
   "outputs": [
    {
     "name": "stdout",
     "output_type": "stream",
     "text": [
      "其他策略需要把资源和时间花在构建冗余的S3 client对象上\n"
     ]
    },
    {
     "data": {
      "image/png": "[encoded data removed]",
      "text/plain": [
       "<Figure size 432x180 with 1 Axes>"
      ]
     },
     "metadata": {
      "needs_background": "light"
     },
     "output_type": "display_data"
    }
   ],
   "source": [
    "print(\"其他策略需要把资源和时间花在构建冗余的S3 client对象上\")\n",
    "fig, ax1 = plt.subplots(figsize=(6, 2.5))\n",
    "sns.barplot(x=\"dispatch_interval\", y=\"CPU_Util(%)\", hue=\"strategy\", hue_order=legends,\n",
    "            data=data, palette=\"Blues\", order=sorted(data['dispatch_interval'].unique()))\n",
    "data['strategy'].unique()\n",
    "sns.move_legend(ax1, \"lower center\", bbox_to_anchor=(.5, 1),\n",
    "                ncol=4, title=None, frameon=False, fontsize=fontsize-6)\n",
    "ax1.set_ylabel(\"CPU utilization (%)\")\n",
    "ax1.set_xlabel(\"Dispatch interval (s)\")\n",
    "fig.show()"
   ]
  }
 ],
 "metadata": {
  "kernelspec": {
   "display_name": "Python 3.8.13 ('plot-env')",
   "language": "python",
   "name": "python3"
  },
  "language_info": {
   "codemirror_mode": {
    "name": "ipython",
    "version": 3
   },
   "file_extension": ".py",
   "mimetype": "text/x-python",
   "name": "python",
   "nbconvert_exporter": "python",
   "pygments_lexer": "ipython3",
   "version": "3.8.13"
  },
  "orig_nbformat": 4,
  "vscode": {
   "interpreter": {
    "hash": "b7127f5b8ee8a3b5f51ceeedd08699d4ab7f3447fac58cf3b39ff17dda2c753f"
   }
  }
 },
 "nbformat": 4,
 "nbformat_minor": 2
}
