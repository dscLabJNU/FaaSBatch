{
 "cells": [
  {
   "cell_type": "code",
   "execution_count": 6,
   "metadata": {},
   "outputs": [
    {
     "data": {
      "text/html": [
       "<svg  width=\"330\" height=\"55\"><rect x=\"0\" y=\"0\" width=\"55\" height=\"55\" style=\"fill:#dbe9f6;stroke-width:2;stroke:rgb(255,255,255)\"/><rect x=\"55\" y=\"0\" width=\"55\" height=\"55\" style=\"fill:#bad6eb;stroke-width:2;stroke:rgb(255,255,255)\"/><rect x=\"110\" y=\"0\" width=\"55\" height=\"55\" style=\"fill:#89bedc;stroke-width:2;stroke:rgb(255,255,255)\"/><rect x=\"165\" y=\"0\" width=\"55\" height=\"55\" style=\"fill:#539ecd;stroke-width:2;stroke:rgb(255,255,255)\"/><rect x=\"220\" y=\"0\" width=\"55\" height=\"55\" style=\"fill:#2b7bba;stroke-width:2;stroke:rgb(255,255,255)\"/><rect x=\"275\" y=\"0\" width=\"55\" height=\"55\" style=\"fill:#0b559f;stroke-width:2;stroke:rgb(255,255,255)\"/></svg>"
      ],
      "text/plain": [
       "[(0.8584083044982699, 0.9134486735870818, 0.9645674740484429),\n",
       " (0.7309496347558632, 0.8394771241830065, 0.9213225682429834),\n",
       " (0.5356862745098039, 0.746082276047674, 0.8642522106881968),\n",
       " (0.32628988850442137, 0.6186236063052672, 0.802798923490965),\n",
       " (0.16696655132641292, 0.48069204152249134, 0.7291503267973857),\n",
       " (0.044059976931949255, 0.3338869665513264, 0.6244521337946944)]"
      ]
     },
     "metadata": {},
     "output_type": "display_data"
    },
    {
     "name": "stdout",
     "output_type": "stream",
     "text": [
      "['#89bedc', '#539ecd', '#2b7bba', '#0b559f']\n"
     ]
    }
   ],
   "source": [
    "import glob\n",
    "import pandas as pd\n",
    "import matplotlib.pyplot as plt\n",
    "import seaborn as sns\n",
    "import utils\n",
    "import os\n",
    "fontsize = 16\n",
    "\n",
    "\n",
    "sns.set_context(\"paper\", rc={\n",
    "    \"font.size\": fontsize,\n",
    "    \"axes.titlesize\": fontsize,\n",
    "    \"axes.labelsize\": fontsize,\n",
    "    \"xtick.labelsize\": fontsize,\n",
    "    'ytick.labelsize': fontsize,\n",
    "    'grid.linewidth': 1.5,\n",
    "})\n",
    "sns.set_style(\"ticks\", {\"xtick.major.size\": 14, \"ytick.major.size\": 14})\n",
    "\n",
    "plt.rc('font', family='Times New Roman', weight='bold', size=fontsize)\n",
    "# plt.rc('lines', lw=3.5)\n",
    "plt.rcParams.update(\n",
    "    {'font.size': fontsize, \"axes.grid\": True, 'grid.linestyle': '-.'})\n",
    "\n",
    "\n",
    "path_mac = \"/Users/jairwu/resources/FaaS/batching-request/test/asplos/dispatch_interval_sensitivity/results/io\"\n",
    "path_linux = \".\"\n",
    "PATH = utils.get_data_path(path_mac=path_mac, path_linux=path_linux)\n",
    "PLOT_DIR = '../plots'\n",
    "os.system(f\"mkdir -p {PLOT_DIR}\")\n",
    "FIGSIZE = (4.5, 2.5)\n",
    "sns.color_palette(\"Blues\")\n",
    "pal = sns.color_palette(\"Blues\")\n",
    "display(pal)\n",
    "mypal = pal.as_hex()[2:]\n",
    "print(mypal)\n"
   ]
  },
  {
   "cell_type": "markdown",
   "metadata": {},
   "source": [
    "### 每一种策略的 执行时间 和 内存用量 受 Dispatch_intervel 的影响"
   ]
  },
  {
   "cell_type": "code",
   "execution_count": 7,
   "metadata": {},
   "outputs": [],
   "source": [
    "\n",
    "all_csvs = list(\n",
    "    map(lambda x: f'{x.split(\".csv\")[0]}', glob.glob(f\"{PATH}/utilization*.csv\")))\n",
    "strategies = ['BaseBatching', \"Kraken\", \"SFS\",  \"n_Batching\"]\n",
    "legends = ['Vanilla', \"Kraken\", \"SFS\",  \"FaaSBatch\"]\n",
    "strategy_csvs = {\n",
    "    strategy: list(filter(lambda x: strategy in x, all_csvs)) for strategy in strategies\n",
    "}\n",
    "\n",
    "data = pd.DataFrame()\n",
    "for strategy, csvs in strategy_csvs.items():\n",
    "    for csv in csvs:\n",
    "        df = pd.read_csv(f\"{csv}.csv\")\n",
    "        dispatch_interval = csv.split(\"_\")[-1]\n",
    "        df['dispatch_interval'] = dispatch_interval\n",
    "        if strategy == 'n_Batching':\n",
    "            df['strategy'] = \"FaaSBatch\"\n",
    "        elif strategy == \"BaseBatching\":\n",
    "            df['strategy'] = 'Vanilla'\n",
    "        else:\n",
    "            df['strategy'] = strategy\n",
    "\n",
    "        # 将每个策略，每个dispatch_intervals下的数据标准化，因为每个实验都是单独测试的\n",
    "        df[\"Mem_Util(0.01*MB)\"] -= df[\"Mem_Util(0.01*MB)\"].min()\n",
    "        df[\"Mem_Util(0.01*MB)\"] = 100 * df[\"Mem_Util(0.01*MB)\"] / 1024\n",
    "        df[\"CPU_Util(%)\"] -= df[\"CPU_Util(%)\"].min()\n",
    "        data = pd.concat([df, data])\n"
   ]
  },
  {
   "cell_type": "code",
   "execution_count": 8,
   "metadata": {},
   "outputs": [
    {
     "name": "stdout",
     "output_type": "stream",
     "text": [
      "#####内存使用总量优化评估######\n",
      "\n",
      "Disaptch interval 为 0.01 时，FaaSBatch 内存使用平均量为 0.9505037006578946 GB\n",
      "\t-相对于 SFS (2.8152573529411766 GB) 优化了：66.23741344055536%\n",
      "\t-相对于 Kraken (1.6674107142857142 GB) 优化了：42.99522652011555%\n",
      "\t-相对于 Vanilla (2.3123191550925926 GB) 优化了：58.893922641927276%\n",
      "\n",
      "Disaptch interval 为 0.05 时，FaaSBatch 内存使用平均量为 0.6838507401315789 GB\n",
      "\t-相对于 SFS (2.899571572580645 GB) 优化了：76.41545576600666%\n",
      "\t-相对于 Kraken (1.819921875 GB) 优化了：62.42417053580507%\n",
      "\t-相对于 Vanilla (3.4990762246621623 GB) 优化了：80.45624912907964%\n",
      "\n",
      "Disaptch interval 为 0.1 时，FaaSBatch 内存使用平均量为 0.6449938322368421 GB\n",
      "\t-相对于 SFS (3.6214535361842106 GB) 优化了：82.18964220326716%\n",
      "\t-相对于 Kraken (1.2931229440789473 GB) 优化了：50.12122898366389%\n",
      "\t-相对于 Vanilla (3.679345703125 GB) 优化了：82.46987686726405%\n",
      "\n",
      "Disaptch interval 为 0.15 时，FaaSBatch 内存使用平均量为 0.6680201480263159 GB\n",
      "\t-相对于 SFS (3.656425280448718 GB) 优化了：81.73023932423045%\n",
      "\t-相对于 Kraken (1.1989746093749998 GB) 优化了：44.2840454832867%\n",
      "\t-相对于 Vanilla (4.025685864825582 GB) 优化了：83.40605376432522%\n",
      "\n",
      "Disaptch interval 为 0.2 时，FaaSBatch 内存使用平均量为 0.5494449013157892 GB\n",
      "\t-相对于 SFS (4.326993075284091 GB) 优化了：87.30192325811117%\n",
      "\t-相对于 Kraken (1.64033203125 GB) 优化了：66.50404364187843%\n",
      "\t-相对于 Vanilla (4.61262356505102 GB) 优化了：88.08823452494954%\n",
      "\n",
      "Disaptch interval 为 0.3 时，FaaSBatch 内存使用平均量为 0.4596525493421055 GB\n",
      "\t-相对于 SFS (5.100254274764151 GB) 优化了：90.98765425056457%\n",
      "\t-相对于 Kraken (1.535400390625 GB) 优化了：70.06301729837392%\n",
      "\t-相对于 Vanilla (4.968178803066038 GB) 优化了：90.74806749993705%\n",
      "\n",
      "Disaptch interval 为 0.4 时，FaaSBatch 内存使用平均量为 0.31178042763157926 GB\n",
      "\t-相对于 SFS (5.32275390625 GB) 优化了：94.1424977911249%\n",
      "\t-相对于 Kraken (1.4766845703124998 GB) 优化了：78.88645727735887%\n",
      "\t-相对于 Vanilla (5.965414663461538 GB) 优化了：94.77353301956944%\n",
      "\n",
      "Disaptch interval 为 0.5 时，FaaSBatch 内存使用平均量为 0.4158100328947368 GB\n",
      "\t-相对于 SFS (5.742610677083333 GB) 优化了：92.75921603820223%\n",
      "\t-相对于 Kraken (1.5309103260869565 GB) 优化了：72.8390340172597%\n",
      "\t-相对于 Vanilla (6.098512620192308 GB) 优化了：93.18177957822074%\n",
      "FaaSBatch相对于 SFS 策略的优化范围为 66.23741344055536\\% to 94.1424977911249\\%\n",
      "FaaSBatch相对于 Kraken 策略的优化范围为 42.99522652011555\\% to 78.88645727735887\\%\n",
      "FaaSBatch相对于 Vanilla 策略的优化范围为 58.893922641927276\\% to 94.77353301956944\\%\n"
     ]
    },
    {
     "data": {
      "image/png": "[encoded data removed]",
      "text/plain": [
       "<Figure size 324x180 with 1 Axes>"
      ]
     },
     "metadata": {},
     "output_type": "display_data"
    }
   ],
   "source": [
    "\n",
    "fig, ax1 = plt.subplots(figsize=FIGSIZE)\n",
    "sns.barplot(x=\"dispatch_interval\", y=\"Mem_Util(0.01*MB)\", hue=\"strategy\", hue_order=legends,\n",
    "            data=data, palette=mypal, order=sorted(data['dispatch_interval'].unique()))\n",
    "sns.move_legend(ax1, \"lower center\", bbox_to_anchor=(.5, 1),\n",
    "                ncol=4, title=None, frameon=False, fontsize=fontsize-7)\n",
    "ax1.set_ylabel(\"Memory usage (GB)\", weight='bold')\n",
    "ax1.set_xlabel(\"Dispatch interval (s)\", weight='bold')\n",
    "\n",
    "fig.savefig(f\"{PLOT_DIR}/usedMemoryAcrossDispatchIntervalsIO.pdf\",\n",
    "            dpi=800, bbox_inches='tight', format='pdf')\n",
    "\n",
    "strategies = data['strategy'].unique()\n",
    "\n",
    "# 统计数据\n",
    "optimized_rates = {strategy: [] for strategy in strategies if strategy != \"FaaSBatch\"}\n",
    "print(\"#####内存使用总量优化评估######\")\n",
    "for interval, df in data.groupby(\"dispatch_interval\"):\n",
    "    strategies = df['strategy'].unique()\n",
    "    aux_group = df.groupby(\"strategy\")\n",
    "    mem_usage_mean = aux_group['Mem_Util(0.01*MB)'].mean()\n",
    "    print(\n",
    "        f\"\\nDisaptch interval 为 {interval} 时，FaaSBatch 内存使用平均量为 {mem_usage_mean['FaaSBatch']} GB\")\n",
    "    for strategy in strategies:\n",
    "        if \"FaaSBatch\" in strategy:\n",
    "            continue\n",
    "        optimized_rate = (\n",
    "            mem_usage_mean[strategy] - mem_usage_mean['FaaSBatch']) / mem_usage_mean[strategy]\n",
    "        optimized_rates[strategy].append(optimized_rate*100)\n",
    "        print(\n",
    "            f\"\\t-相对于 {strategy} ({mem_usage_mean[strategy]} GB) 优化了：{optimized_rate*100}%\")\n",
    "\n",
    "for strategy, optimized_rate_list in optimized_rates.items():\n",
    "    print(f\"FaaSBatch相对于 {strategy} 策略的优化范围为 {min(optimized_rate_list)}\\% to {max(optimized_rate_list)}\\%\")\n"
   ]
  },
  {
   "cell_type": "code",
   "execution_count": 9,
   "metadata": {},
   "outputs": [
    {
     "name": "stdout",
     "output_type": "stream",
     "text": [
      "#####CPU使用总量评估######\n",
      "FaaSBatch相对于 SFS 策略的优化范围为 78.4534694375737\\% to 90.63561894533497\\%\n",
      "FaaSBatch相对于 Kraken 策略的优化范围为 82.18969172037505\\% to 90.31896408908958\\%\n",
      "FaaSBatch相对于 Vanilla 策略的优化范围为 81.42668059405567\\% to 90.09217764756671\\%\n"
     ]
    },
    {
     "data": {
      "image/png": "[encoded data removed]",
      "text/plain": [
       "<Figure size 324x180 with 1 Axes>"
      ]
     },
     "metadata": {},
     "output_type": "display_data"
    }
   ],
   "source": [
    "fig, ax1 = plt.subplots(figsize=FIGSIZE)\n",
    "sns.barplot(x=\"dispatch_interval\", y=\"CPU_Util(%)\", hue=\"strategy\", hue_order=legends,\n",
    "            data=data, palette=mypal, order=sorted(data['dispatch_interval'].unique()))\n",
    "sns.move_legend(ax1, \"lower center\", bbox_to_anchor=(.5, 1),\n",
    "                ncol=4, title=None, frameon=False, fontsize=fontsize-7)\n",
    "ax1.set_ylabel(\"CPU utilization (%)\", weight='bold')\n",
    "ax1.set_xlabel(\"Dispatch interval (s)\", weight='bold')\n",
    "fig.savefig(f\"{PLOT_DIR}/avgCPUUtilsAcrossDispatchIntervalsIO.pdf\",\n",
    "            dpi=800, bbox_inches='tight', format='pdf')\n",
    "\n",
    "print(\"#####CPU使用总量评估######\")\n",
    "# 统计数据\n",
    "optimized_rates = {strategy: [] for strategy in strategies if strategy != \"FaaSBatch\"}\n",
    "\n",
    "for interval, df in data.groupby(\"dispatch_interval\"):\n",
    "    strategies = df['strategy'].unique()\n",
    "    aux_group = df.groupby(\"strategy\")\n",
    "    mem_usage_mean = aux_group['CPU_Util(%)'].mean()\n",
    "    # print(f\"\\nDisaptch interval 为 {interval} 时:\")\n",
    "    for strategy in strategies:\n",
    "        if \"FaaSBatch\" in strategy:\n",
    "            continue\n",
    "        optimized_rate = (mem_usage_mean[strategy] - mem_usage_mean['FaaSBatch']) / mem_usage_mean[strategy]\n",
    "        optimized_rates[strategy].append(optimized_rate*100)\n",
    "        # print(f\"FaaSBatch 相对于 {strategy} 优化了：{optimized_rate*100}%\", end=', ')\n",
    "    # print(\"\")\n",
    "\n",
    "for strategy, optimized_rate_list in optimized_rates.items():\n",
    "    print(f\"FaaSBatch相对于 {strategy} 策略的优化范围为 {min(optimized_rate_list)}\\% to {max(optimized_rate_list)}\\%\")\n"
   ]
  }
 ],
 "metadata": {
  "kernelspec": {
   "display_name": "Python 3.8.13 ('plot-env')",
   "language": "python",
   "name": "python3"
  },
  "language_info": {
   "codemirror_mode": {
    "name": "ipython",
    "version": 3
   },
   "file_extension": ".py",
   "mimetype": "text/x-python",
   "name": "python",
   "nbconvert_exporter": "python",
   "pygments_lexer": "ipython3",
   "version": "3.8.13"
  },
  "orig_nbformat": 4,
  "vscode": {
   "interpreter": {
    "hash": "b7127f5b8ee8a3b5f51ceeedd08699d4ab7f3447fac58cf3b39ff17dda2c753f"
   }
  }
 },
 "nbformat": 4,
 "nbformat_minor": 2
}
