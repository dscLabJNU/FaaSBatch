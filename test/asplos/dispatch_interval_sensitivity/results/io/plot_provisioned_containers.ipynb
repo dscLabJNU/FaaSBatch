{
 "cells": [
  {
   "cell_type": "code",
   "execution_count": 8,
   "metadata": {},
   "outputs": [
    {
     "data": {
      "text/html": [
       "<svg  width=\"330\" height=\"55\"><rect x=\"0\" y=\"0\" width=\"55\" height=\"55\" style=\"fill:#dbe9f6;stroke-width:2;stroke:rgb(255,255,255)\"/><rect x=\"55\" y=\"0\" width=\"55\" height=\"55\" style=\"fill:#bad6eb;stroke-width:2;stroke:rgb(255,255,255)\"/><rect x=\"110\" y=\"0\" width=\"55\" height=\"55\" style=\"fill:#89bedc;stroke-width:2;stroke:rgb(255,255,255)\"/><rect x=\"165\" y=\"0\" width=\"55\" height=\"55\" style=\"fill:#539ecd;stroke-width:2;stroke:rgb(255,255,255)\"/><rect x=\"220\" y=\"0\" width=\"55\" height=\"55\" style=\"fill:#2b7bba;stroke-width:2;stroke:rgb(255,255,255)\"/><rect x=\"275\" y=\"0\" width=\"55\" height=\"55\" style=\"fill:#0b559f;stroke-width:2;stroke:rgb(255,255,255)\"/></svg>"
      ],
      "text/plain": [
       "[(0.8584083044982699, 0.9134486735870818, 0.9645674740484429),\n",
       " (0.7309496347558632, 0.8394771241830065, 0.9213225682429834),\n",
       " (0.5356862745098039, 0.746082276047674, 0.8642522106881968),\n",
       " (0.32628988850442137, 0.6186236063052672, 0.802798923490965),\n",
       " (0.16696655132641292, 0.48069204152249134, 0.7291503267973857),\n",
       " (0.044059976931949255, 0.3338869665513264, 0.6244521337946944)]"
      ]
     },
     "metadata": {},
     "output_type": "display_data"
    },
    {
     "name": "stdout",
     "output_type": "stream",
     "text": [
      "['#89bedc', '#539ecd', '#2b7bba', '#0b559f']\n"
     ]
    }
   ],
   "source": [
    "import glob\n",
    "import pandas as pd\n",
    "import matplotlib.pyplot as plt\n",
    "import seaborn as sns\n",
    "import utils\n",
    "import os\n",
    "fontsize = 16\n",
    "\n",
    "\n",
    "sns.set_context(\"paper\", rc={\n",
    "    \"font.size\": fontsize,\n",
    "    \"axes.titlesize\": fontsize,\n",
    "    \"axes.labelsize\": fontsize,\n",
    "    \"xtick.labelsize\": fontsize,\n",
    "    'ytick.labelsize': fontsize,\n",
    "    'grid.linewidth': 1.5,\n",
    "})\n",
    "sns.set_style(\"ticks\", {\"xtick.major.size\": 14, \"ytick.major.size\": 14})\n",
    "\n",
    "plt.rc('font', family='Times New Roman', weight='bold', size=fontsize)\n",
    "# plt.rc('lines', lw=3.5)\n",
    "plt.rcParams.update(\n",
    "    {'font.size': fontsize, \"axes.grid\": True, 'grid.linestyle': '-.'})\n",
    "\n",
    "\n",
    "path_mac = \"/Users/jairwu/resources/FaaS/batching-request/test/asplos/dispatch_interval_sensitivity/results/io\"\n",
    "path_linux = \".\"\n",
    "PATH = utils.get_data_path(path_mac=path_mac, path_linux=path_linux)\n",
    "PLOT_DIR = '../plots'\n",
    "os.system(f\"mkdir -p {PLOT_DIR}\")\n",
    "FIGSIZE = (4.5, 2.5)\n",
    "sns.color_palette(\"Blues\")\n",
    "pal = sns.color_palette(\"Blues\")\n",
    "display(pal)\n",
    "mypal = pal.as_hex()[2:]\n",
    "print(mypal)\n"
   ]
  },
  {
   "cell_type": "code",
   "execution_count": 9,
   "metadata": {},
   "outputs": [],
   "source": [
    "import numpy as np\n",
    "all_csvs = list(\n",
    "    map(lambda x: f'{x.split(\".csv\")[0]}', glob.glob(f\"{PATH}/num_container*.csv\")))\n",
    "strategies = ['BaseBatching', \"Kraken\", \"SFS\",  \"s_Batching\"]\n",
    "legends = ['Vanilla', \"Kraken\", \"SFS\",  \"FaaSBatch\"]\n",
    "strategy_csvs = {\n",
    "    strategy: list(filter(lambda x: strategy in x, all_csvs)) for strategy in strategies\n",
    "}\n",
    "\n",
    "data = pd.DataFrame()\n",
    "for strategy, csvs in strategy_csvs.items():\n",
    "    for csv in csvs:\n",
    "        df = pd.read_csv(f\"{csv}.csv\")\n",
    "        dispatch_interval = csv.split(\"_\")[-1]\n",
    "        df['dispatch_interval'] = dispatch_interval\n",
    "        if strategy == 's_Batching':\n",
    "            df['strategy'] = \"FaaSBatch\"\n",
    "        elif strategy == \"BaseBatching\":\n",
    "            df['strategy'] = 'Vanilla'\n",
    "        else:\n",
    "            df['strategy'] = strategy\n",
    "        data = pd.concat([df, data])\n"
   ]
  },
  {
   "cell_type": "code",
   "execution_count": 10,
   "metadata": {},
   "outputs": [
    {
     "name": "stdout",
     "output_type": "stream",
     "text": [
      "#####启动容器数量评估######\n",
      "SFS 平均启动的容器数量为：243.5 个, FaaSBatch 比其少了 93.22381930184805%，共计 16.5 个\n",
      "Kraken 平均启动的容器数量为：65.0 个, FaaSBatch 比其少了 74.61538461538461%，共计 16.5 个\n",
      "Vanilla 平均启动的容器数量为：254.0 个, FaaSBatch 比其少了 93.50393700787401%，共计 16.5 个\n"
     ]
    },
    {
     "data": {
      "image/png": "[encoded data removed]",
      "text/plain": [
       "<Figure size 324x180 with 1 Axes>"
      ]
     },
     "metadata": {},
     "output_type": "display_data"
    }
   ],
   "source": [
    "def bar_plot(y, y_label):\n",
    "    fig, ax1 = plt.subplots(figsize=FIGSIZE)\n",
    "    sns.barplot(x=\"dispatch_interval\", y=y, hue=\"strategy\", hue_order=legends,\n",
    "                data=data, palette=mypal, order=sorted(data['dispatch_interval'].unique()))\n",
    "    data['strategy'].unique()\n",
    "    sns.move_legend(ax1, \"lower center\", bbox_to_anchor=(.5, 1),\n",
    "                    ncol=4, title=None, frameon=False, fontsize=fontsize-7)\n",
    "    ax1.set_ylabel(y_label, weight='bold')\n",
    "    ax1.set_xlabel(\"Dispatch interval (s)\", weight='bold')\n",
    "    return fig\n",
    "\n",
    "\n",
    "fig = bar_plot(y=\"num_containers\", y_label=\"# of containers\")\n",
    "fig.savefig(f\"{PLOT_DIR}/numOfContainersAcrossDispatchIntervalsIO.pdf\",\n",
    "            dpi=800, bbox_inches='tight', format='pdf')\n",
    "strategies = data['strategy'].unique()\n",
    "num_container_mean_across_interval = {}\n",
    "num_container_mean_across_interval = {\n",
    "    strategy: [] for strategy in strategies\n",
    "}\n",
    "\n",
    "print(\"#####启动容器数量评估######\")\n",
    "# 统计数据\n",
    "for interval, df in data.groupby(\"dispatch_interval\"):\n",
    "    aux_group = df.groupby(\"strategy\")\n",
    "    num_containers_mean = aux_group['num_containers'].mean()\n",
    "    # print(f\"\\nDisaptch interval 为 {interval} 时:\")\n",
    "    for strategy in strategies:\n",
    "        num_container_mean_across_interval[strategy].append(\n",
    "            num_containers_mean[strategy])\n",
    "\n",
    "num_containers_FaaSBatch = num_container_mean_across_interval['FaaSBatch']\n",
    "avg_containers_FaaSBatch = sum(\n",
    "    num_containers_FaaSBatch) / len(num_containers_FaaSBatch)\n",
    "\n",
    "for strategy, num_containers_mean in num_container_mean_across_interval.items():\n",
    "    if strategy == \"FaaSBatch\":\n",
    "        continue\n",
    "    avg_num_contaienrs = sum(num_containers_mean) / len(num_containers_mean)\n",
    "    print(f\"{strategy} 平均启动的容器数量为：{avg_num_contaienrs} 个, FaaSBatch 比其少了 {100*(avg_num_contaienrs - avg_containers_FaaSBatch)/avg_num_contaienrs}%，共计 {avg_containers_FaaSBatch} 个\")\n",
    "\n",
    "\n",
    "# for strategy, num_containers_mean in num_container_mean_across_interval.items():\n",
    "#     print(f\"{strategy} 平均启动的容器数量为：{sum(num_containers_mean)/ len(num_containers_mean)} 个\")\n"
   ]
  },
  {
   "cell_type": "code",
   "execution_count": null,
   "metadata": {},
   "outputs": [],
   "source": []
  }
 ],
 "metadata": {
  "kernelspec": {
   "display_name": "Python 3.8.13 ('plot-env')",
   "language": "python",
   "name": "python3"
  },
  "language_info": {
   "codemirror_mode": {
    "name": "ipython",
    "version": 3
   },
   "file_extension": ".py",
   "mimetype": "text/x-python",
   "name": "python",
   "nbconvert_exporter": "python",
   "pygments_lexer": "ipython3",
   "version": "3.8.13"
  },
  "orig_nbformat": 4,
  "vscode": {
   "interpreter": {
    "hash": "b7127f5b8ee8a3b5f51ceeedd08699d4ab7f3447fac58cf3b39ff17dda2c753f"
   }
  }
 },
 "nbformat": 4,
 "nbformat_minor": 2
}
