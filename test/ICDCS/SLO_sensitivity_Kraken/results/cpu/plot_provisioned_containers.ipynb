{
 "cells": [
  {
   "cell_type": "code",
   "execution_count": 6,
   "metadata": {},
   "outputs": [],
   "source": [
    "import glob\n",
    "import pandas as pd\n",
    "import matplotlib.pyplot as plt\n",
    "import seaborn as sns\n",
    "import utils\n",
    "fontsize = 16\n",
    "\n",
    "\n",
    "sns.set_context(\"paper\", rc={\n",
    "    \"font.size\": fontsize,\n",
    "    \"axes.titlesize\": fontsize,\n",
    "    \"axes.labelsize\": fontsize,\n",
    "    \"xtick.labelsize\": fontsize,\n",
    "    'ytick.labelsize': fontsize,\n",
    "    'grid.linewidth': 1.5,\n",
    "})\n",
    "sns.set_style(\"ticks\", {\"xtick.major.size\": 14, \"ytick.major.size\": 14})\n",
    "\n",
    "plt.rc('font', family='Times New Roman', weight='bold', size=fontsize)\n",
    "# plt.rc('lines', lw=3.5)\n",
    "plt.rcParams.update(\n",
    "    {'font.size': fontsize, \"axes.grid\": True, 'grid.linestyle': '-.'})\n",
    "\n",
    "\n",
    "path_mac = \".\"\n",
    "path_linux = \".\"\n",
    "PATH = utils.get_data_path(path_mac=path_mac, path_linux=path_linux)"
   ]
  },
  {
   "cell_type": "code",
   "execution_count": 7,
   "metadata": {},
   "outputs": [],
   "source": [
    "import numpy as np\n",
    "all_csvs = list(\n",
    "    map(lambda x: f'{x.split(\".csv\")[0]}', glob.glob(f\"{PATH}/num_container*.csv\")))\n",
    "strategies = [\"Kraken\"]\n",
    "legends = [\"Kraken\"]\n",
    "strategy_csvs = {\n",
    "    strategy: list(filter(lambda x: strategy in x, all_csvs)) for strategy in strategies\n",
    "}\n",
    "\n",
    "data = pd.DataFrame()\n",
    "for strategy, csvs in strategy_csvs.items():\n",
    "    for csv in csvs:\n",
    "        df = pd.read_csv(f\"{csv}.csv\")\n",
    "        SOL_quantail = csv.split(\"_\")[-1]\n",
    "        df['SOL_quantail'] = SOL_quantail\n",
    "        if strategy == 's_Batching':\n",
    "            df['strategy'] = \"FaaSBatch\"\n",
    "        else:\n",
    "            df['strategy'] = strategy\n",
    "        data = pd.concat([df, data])\n"
   ]
  },
  {
   "cell_type": "code",
   "execution_count": 8,
   "metadata": {},
   "outputs": [
    {
     "data": {
      "image/png": "[encoded data removed]",
      "text/plain": [
       "<Figure size 576x180 with 1 Axes>"
      ]
     },
     "metadata": {},
     "output_type": "display_data"
    }
   ],
   "source": [
    "def bar_plot(y, y_label):\n",
    "    fig, ax1 = plt.subplots(figsize=(8, 2.5))\n",
    "    sns.barplot(x=\"SOL_quantail\", y=y, hue=\"strategy\", hue_order=legends,\n",
    "                data=data, palette=\"Blues\", order=sorted(data['SOL_quantail'].unique()))\n",
    "    data['strategy'].unique()\n",
    "    sns.move_legend(ax1, \"lower center\", bbox_to_anchor=(.5, 1),\n",
    "                    ncol=4, title=None, frameon=False, fontsize=fontsize-6)\n",
    "    ax1.set_ylabel(y_label)\n",
    "    ax1.set_xlabel(\"SOL quantails\")\n",
    "    fig.show()\n",
    "\n",
    "bar_plot(y=\"num_containers\", y_label=\"# of containers\")"
   ]
  }
 ],
 "metadata": {
  "kernelspec": {
   "display_name": "Python 3.8.13 ('plot-env')",
   "language": "python",
   "name": "python3"
  },
  "language_info": {
   "codemirror_mode": {
    "name": "ipython",
    "version": 3
   },
   "file_extension": ".py",
   "mimetype": "text/x-python",
   "name": "python",
   "nbconvert_exporter": "python",
   "pygments_lexer": "ipython3",
   "version": "3.8.13"
  },
  "orig_nbformat": 4,
  "vscode": {
   "interpreter": {
    "hash": "b7127f5b8ee8a3b5f51ceeedd08699d4ab7f3447fac58cf3b39ff17dda2c753f"
   }
  }
 },
 "nbformat": 4,
 "nbformat_minor": 2
}
